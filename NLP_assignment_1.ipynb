{
  "cells": [
    {
      "cell_type": "markdown",
      "metadata": {
        "id": "view-in-github",
        "colab_type": "text"
      },
      "source": [
        "<a href=\"https://colab.research.google.com/github/SaiManikantaBollam/NLP_Project/blob/main/NLP_assignment_1.ipynb\" target=\"_parent\"><img src=\"https://colab.research.google.com/assets/colab-badge.svg\" alt=\"Open In Colab\"/></a>"
      ]
    },
    {
      "cell_type": "code",
      "execution_count": 1,
      "metadata": {
        "_cell_guid": "b1076dfc-b9ad-4769-8c92-a6c4dae69d19",
        "_uuid": "8f2839f25d086af736a60e9eeb907d3b93b6e0e5",
        "execution": {
          "iopub.execute_input": "2022-12-13T04:49:06.216167Z",
          "iopub.status.busy": "2022-12-13T04:49:06.215275Z",
          "iopub.status.idle": "2022-12-13T04:49:06.240209Z",
          "shell.execute_reply": "2022-12-13T04:49:06.239151Z",
          "shell.execute_reply.started": "2022-12-13T04:49:06.216030Z"
        },
        "id": "WcykoNCh9TiB"
      },
      "outputs": [],
      "source": [
        "# This Python 3 environment comes with many helpful analytics libraries installed\n",
        "# It is defined by the kaggle/python Docker image: https://github.com/kaggle/docker-python\n",
        "# For example, here's several helpful packages to load\n",
        "\n",
        "import numpy as np # linear algebra\n",
        "import pandas as pd # data processing, CSV file I/O (e.g. pd.read_csv)\n",
        "\n",
        "# Input data files are available in the read-only \"../input/\" directory\n",
        "# For example, running this (by clicking run or pressing Shift+Enter) will list all files under the input directory\n",
        "\n",
        "import os\n",
        "# for dirname, _, filenames in os.walk('/kaggle/input'):\n",
        "#     for filename in filenames:\n",
        "#         print(os.path.join(dirname, filename))\n",
        "\n",
        "# You can write up to 20GB to the current directory (/kaggle/working/) that gets preserved as output when you create a version using \"Save & Run All\"\n",
        "# You can also write temporary files to /kaggle/temp/, but they won't be saved outside of the current session"
      ]
    },
    {
      "cell_type": "code",
      "execution_count": 2,
      "metadata": {
        "execution": {
          "iopub.execute_input": "2022-12-13T04:49:06.243375Z",
          "iopub.status.busy": "2022-12-13T04:49:06.242675Z",
          "iopub.status.idle": "2022-12-13T04:49:06.319898Z",
          "shell.execute_reply": "2022-12-13T04:49:06.318447Z",
          "shell.execute_reply.started": "2022-12-13T04:49:06.243336Z"
        },
        "colab": {
          "base_uri": "https://localhost:8080/",
          "height": 338
        },
        "id": "s6oLTPtT9TiD",
        "outputId": "82f78fac-7286-4fdd-ba88-15693bb3bc8d"
      },
      "outputs": [
        {
          "output_type": "error",
          "ename": "FileNotFoundError",
          "evalue": "ignored",
          "traceback": [
            "\u001b[0;31m---------------------------------------------------------------------------\u001b[0m",
            "\u001b[0;31mFileNotFoundError\u001b[0m                         Traceback (most recent call last)",
            "\u001b[0;32m<ipython-input-2-3fb40b9e0518>\u001b[0m in \u001b[0;36m<cell line: 1>\u001b[0;34m()\u001b[0m\n\u001b[0;32m----> 1\u001b[0;31m \u001b[0mdf\u001b[0m\u001b[0;34m=\u001b[0m\u001b[0mpd\u001b[0m\u001b[0;34m.\u001b[0m\u001b[0mread_csv\u001b[0m\u001b[0;34m(\u001b[0m\u001b[0;34m'/kaggle/input/nlp-getting-started/train.csv'\u001b[0m\u001b[0;34m)\u001b[0m\u001b[0;34m\u001b[0m\u001b[0;34m\u001b[0m\u001b[0m\n\u001b[0m\u001b[1;32m      2\u001b[0m \u001b[0mdf\u001b[0m\u001b[0;34m.\u001b[0m\u001b[0mhead\u001b[0m\u001b[0;34m(\u001b[0m\u001b[0;34m)\u001b[0m\u001b[0;34m\u001b[0m\u001b[0;34m\u001b[0m\u001b[0m\n",
            "\u001b[0;32m/usr/local/lib/python3.10/dist-packages/pandas/util/_decorators.py\u001b[0m in \u001b[0;36mwrapper\u001b[0;34m(*args, **kwargs)\u001b[0m\n\u001b[1;32m    209\u001b[0m                 \u001b[0;32melse\u001b[0m\u001b[0;34m:\u001b[0m\u001b[0;34m\u001b[0m\u001b[0;34m\u001b[0m\u001b[0m\n\u001b[1;32m    210\u001b[0m                     \u001b[0mkwargs\u001b[0m\u001b[0;34m[\u001b[0m\u001b[0mnew_arg_name\u001b[0m\u001b[0;34m]\u001b[0m \u001b[0;34m=\u001b[0m \u001b[0mnew_arg_value\u001b[0m\u001b[0;34m\u001b[0m\u001b[0;34m\u001b[0m\u001b[0m\n\u001b[0;32m--> 211\u001b[0;31m             \u001b[0;32mreturn\u001b[0m \u001b[0mfunc\u001b[0m\u001b[0;34m(\u001b[0m\u001b[0;34m*\u001b[0m\u001b[0margs\u001b[0m\u001b[0;34m,\u001b[0m \u001b[0;34m**\u001b[0m\u001b[0mkwargs\u001b[0m\u001b[0;34m)\u001b[0m\u001b[0;34m\u001b[0m\u001b[0;34m\u001b[0m\u001b[0m\n\u001b[0m\u001b[1;32m    212\u001b[0m \u001b[0;34m\u001b[0m\u001b[0m\n\u001b[1;32m    213\u001b[0m         \u001b[0;32mreturn\u001b[0m \u001b[0mcast\u001b[0m\u001b[0;34m(\u001b[0m\u001b[0mF\u001b[0m\u001b[0;34m,\u001b[0m \u001b[0mwrapper\u001b[0m\u001b[0;34m)\u001b[0m\u001b[0;34m\u001b[0m\u001b[0;34m\u001b[0m\u001b[0m\n",
            "\u001b[0;32m/usr/local/lib/python3.10/dist-packages/pandas/util/_decorators.py\u001b[0m in \u001b[0;36mwrapper\u001b[0;34m(*args, **kwargs)\u001b[0m\n\u001b[1;32m    329\u001b[0m                     \u001b[0mstacklevel\u001b[0m\u001b[0;34m=\u001b[0m\u001b[0mfind_stack_level\u001b[0m\u001b[0;34m(\u001b[0m\u001b[0;34m)\u001b[0m\u001b[0;34m,\u001b[0m\u001b[0;34m\u001b[0m\u001b[0;34m\u001b[0m\u001b[0m\n\u001b[1;32m    330\u001b[0m                 )\n\u001b[0;32m--> 331\u001b[0;31m             \u001b[0;32mreturn\u001b[0m \u001b[0mfunc\u001b[0m\u001b[0;34m(\u001b[0m\u001b[0;34m*\u001b[0m\u001b[0margs\u001b[0m\u001b[0;34m,\u001b[0m \u001b[0;34m**\u001b[0m\u001b[0mkwargs\u001b[0m\u001b[0;34m)\u001b[0m\u001b[0;34m\u001b[0m\u001b[0;34m\u001b[0m\u001b[0m\n\u001b[0m\u001b[1;32m    332\u001b[0m \u001b[0;34m\u001b[0m\u001b[0m\n\u001b[1;32m    333\u001b[0m         \u001b[0;31m# error: \"Callable[[VarArg(Any), KwArg(Any)], Any]\" has no\u001b[0m\u001b[0;34m\u001b[0m\u001b[0;34m\u001b[0m\u001b[0m\n",
            "\u001b[0;32m/usr/local/lib/python3.10/dist-packages/pandas/io/parsers/readers.py\u001b[0m in \u001b[0;36mread_csv\u001b[0;34m(filepath_or_buffer, sep, delimiter, header, names, index_col, usecols, squeeze, prefix, mangle_dupe_cols, dtype, engine, converters, true_values, false_values, skipinitialspace, skiprows, skipfooter, nrows, na_values, keep_default_na, na_filter, verbose, skip_blank_lines, parse_dates, infer_datetime_format, keep_date_col, date_parser, dayfirst, cache_dates, iterator, chunksize, compression, thousands, decimal, lineterminator, quotechar, quoting, doublequote, escapechar, comment, encoding, encoding_errors, dialect, error_bad_lines, warn_bad_lines, on_bad_lines, delim_whitespace, low_memory, memory_map, float_precision, storage_options)\u001b[0m\n\u001b[1;32m    948\u001b[0m     \u001b[0mkwds\u001b[0m\u001b[0;34m.\u001b[0m\u001b[0mupdate\u001b[0m\u001b[0;34m(\u001b[0m\u001b[0mkwds_defaults\u001b[0m\u001b[0;34m)\u001b[0m\u001b[0;34m\u001b[0m\u001b[0;34m\u001b[0m\u001b[0m\n\u001b[1;32m    949\u001b[0m \u001b[0;34m\u001b[0m\u001b[0m\n\u001b[0;32m--> 950\u001b[0;31m     \u001b[0;32mreturn\u001b[0m \u001b[0m_read\u001b[0m\u001b[0;34m(\u001b[0m\u001b[0mfilepath_or_buffer\u001b[0m\u001b[0;34m,\u001b[0m \u001b[0mkwds\u001b[0m\u001b[0;34m)\u001b[0m\u001b[0;34m\u001b[0m\u001b[0;34m\u001b[0m\u001b[0m\n\u001b[0m\u001b[1;32m    951\u001b[0m \u001b[0;34m\u001b[0m\u001b[0m\n\u001b[1;32m    952\u001b[0m \u001b[0;34m\u001b[0m\u001b[0m\n",
            "\u001b[0;32m/usr/local/lib/python3.10/dist-packages/pandas/io/parsers/readers.py\u001b[0m in \u001b[0;36m_read\u001b[0;34m(filepath_or_buffer, kwds)\u001b[0m\n\u001b[1;32m    603\u001b[0m \u001b[0;34m\u001b[0m\u001b[0m\n\u001b[1;32m    604\u001b[0m     \u001b[0;31m# Create the parser.\u001b[0m\u001b[0;34m\u001b[0m\u001b[0;34m\u001b[0m\u001b[0m\n\u001b[0;32m--> 605\u001b[0;31m     \u001b[0mparser\u001b[0m \u001b[0;34m=\u001b[0m \u001b[0mTextFileReader\u001b[0m\u001b[0;34m(\u001b[0m\u001b[0mfilepath_or_buffer\u001b[0m\u001b[0;34m,\u001b[0m \u001b[0;34m**\u001b[0m\u001b[0mkwds\u001b[0m\u001b[0;34m)\u001b[0m\u001b[0;34m\u001b[0m\u001b[0;34m\u001b[0m\u001b[0m\n\u001b[0m\u001b[1;32m    606\u001b[0m \u001b[0;34m\u001b[0m\u001b[0m\n\u001b[1;32m    607\u001b[0m     \u001b[0;32mif\u001b[0m \u001b[0mchunksize\u001b[0m \u001b[0;32mor\u001b[0m \u001b[0miterator\u001b[0m\u001b[0;34m:\u001b[0m\u001b[0;34m\u001b[0m\u001b[0;34m\u001b[0m\u001b[0m\n",
            "\u001b[0;32m/usr/local/lib/python3.10/dist-packages/pandas/io/parsers/readers.py\u001b[0m in \u001b[0;36m__init__\u001b[0;34m(self, f, engine, **kwds)\u001b[0m\n\u001b[1;32m   1440\u001b[0m \u001b[0;34m\u001b[0m\u001b[0m\n\u001b[1;32m   1441\u001b[0m         \u001b[0mself\u001b[0m\u001b[0;34m.\u001b[0m\u001b[0mhandles\u001b[0m\u001b[0;34m:\u001b[0m \u001b[0mIOHandles\u001b[0m \u001b[0;34m|\u001b[0m \u001b[0;32mNone\u001b[0m \u001b[0;34m=\u001b[0m \u001b[0;32mNone\u001b[0m\u001b[0;34m\u001b[0m\u001b[0;34m\u001b[0m\u001b[0m\n\u001b[0;32m-> 1442\u001b[0;31m         \u001b[0mself\u001b[0m\u001b[0;34m.\u001b[0m\u001b[0m_engine\u001b[0m \u001b[0;34m=\u001b[0m \u001b[0mself\u001b[0m\u001b[0;34m.\u001b[0m\u001b[0m_make_engine\u001b[0m\u001b[0;34m(\u001b[0m\u001b[0mf\u001b[0m\u001b[0;34m,\u001b[0m \u001b[0mself\u001b[0m\u001b[0;34m.\u001b[0m\u001b[0mengine\u001b[0m\u001b[0;34m)\u001b[0m\u001b[0;34m\u001b[0m\u001b[0;34m\u001b[0m\u001b[0m\n\u001b[0m\u001b[1;32m   1443\u001b[0m \u001b[0;34m\u001b[0m\u001b[0m\n\u001b[1;32m   1444\u001b[0m     \u001b[0;32mdef\u001b[0m \u001b[0mclose\u001b[0m\u001b[0;34m(\u001b[0m\u001b[0mself\u001b[0m\u001b[0;34m)\u001b[0m \u001b[0;34m->\u001b[0m \u001b[0;32mNone\u001b[0m\u001b[0;34m:\u001b[0m\u001b[0;34m\u001b[0m\u001b[0;34m\u001b[0m\u001b[0m\n",
            "\u001b[0;32m/usr/local/lib/python3.10/dist-packages/pandas/io/parsers/readers.py\u001b[0m in \u001b[0;36m_make_engine\u001b[0;34m(self, f, engine)\u001b[0m\n\u001b[1;32m   1733\u001b[0m                 \u001b[0;32mif\u001b[0m \u001b[0;34m\"b\"\u001b[0m \u001b[0;32mnot\u001b[0m \u001b[0;32min\u001b[0m \u001b[0mmode\u001b[0m\u001b[0;34m:\u001b[0m\u001b[0;34m\u001b[0m\u001b[0;34m\u001b[0m\u001b[0m\n\u001b[1;32m   1734\u001b[0m                     \u001b[0mmode\u001b[0m \u001b[0;34m+=\u001b[0m \u001b[0;34m\"b\"\u001b[0m\u001b[0;34m\u001b[0m\u001b[0;34m\u001b[0m\u001b[0m\n\u001b[0;32m-> 1735\u001b[0;31m             self.handles = get_handle(\n\u001b[0m\u001b[1;32m   1736\u001b[0m                 \u001b[0mf\u001b[0m\u001b[0;34m,\u001b[0m\u001b[0;34m\u001b[0m\u001b[0;34m\u001b[0m\u001b[0m\n\u001b[1;32m   1737\u001b[0m                 \u001b[0mmode\u001b[0m\u001b[0;34m,\u001b[0m\u001b[0;34m\u001b[0m\u001b[0;34m\u001b[0m\u001b[0m\n",
            "\u001b[0;32m/usr/local/lib/python3.10/dist-packages/pandas/io/common.py\u001b[0m in \u001b[0;36mget_handle\u001b[0;34m(path_or_buf, mode, encoding, compression, memory_map, is_text, errors, storage_options)\u001b[0m\n\u001b[1;32m    854\u001b[0m         \u001b[0;32mif\u001b[0m \u001b[0mioargs\u001b[0m\u001b[0;34m.\u001b[0m\u001b[0mencoding\u001b[0m \u001b[0;32mand\u001b[0m \u001b[0;34m\"b\"\u001b[0m \u001b[0;32mnot\u001b[0m \u001b[0;32min\u001b[0m \u001b[0mioargs\u001b[0m\u001b[0;34m.\u001b[0m\u001b[0mmode\u001b[0m\u001b[0;34m:\u001b[0m\u001b[0;34m\u001b[0m\u001b[0;34m\u001b[0m\u001b[0m\n\u001b[1;32m    855\u001b[0m             \u001b[0;31m# Encoding\u001b[0m\u001b[0;34m\u001b[0m\u001b[0;34m\u001b[0m\u001b[0m\n\u001b[0;32m--> 856\u001b[0;31m             handle = open(\n\u001b[0m\u001b[1;32m    857\u001b[0m                 \u001b[0mhandle\u001b[0m\u001b[0;34m,\u001b[0m\u001b[0;34m\u001b[0m\u001b[0;34m\u001b[0m\u001b[0m\n\u001b[1;32m    858\u001b[0m                 \u001b[0mioargs\u001b[0m\u001b[0;34m.\u001b[0m\u001b[0mmode\u001b[0m\u001b[0;34m,\u001b[0m\u001b[0;34m\u001b[0m\u001b[0;34m\u001b[0m\u001b[0m\n",
            "\u001b[0;31mFileNotFoundError\u001b[0m: [Errno 2] No such file or directory: '/kaggle/input/nlp-getting-started/train.csv'"
          ]
        }
      ],
      "source": [
        "df=pd.read_csv('/kaggle/input/nlp-getting-started/train.csv')\n",
        "df.head()"
      ]
    },
    {
      "cell_type": "code",
      "execution_count": null,
      "metadata": {
        "execution": {
          "iopub.execute_input": "2022-12-13T04:49:06.321959Z",
          "iopub.status.busy": "2022-12-13T04:49:06.321578Z",
          "iopub.status.idle": "2022-12-13T04:49:06.335731Z",
          "shell.execute_reply": "2022-12-13T04:49:06.334461Z",
          "shell.execute_reply.started": "2022-12-13T04:49:06.321925Z"
        },
        "id": "CmspEN7o9TiF",
        "outputId": "39d06ff5-e949-46ee-ac73-259957f4161a"
      },
      "outputs": [
        {
          "data": {
            "text/plain": [
              "0    4342\n",
              "1    3271\n",
              "Name: target, dtype: int64"
            ]
          },
          "execution_count": 3,
          "metadata": {},
          "output_type": "execute_result"
        }
      ],
      "source": [
        "df['target'].value_counts()"
      ]
    },
    {
      "cell_type": "code",
      "execution_count": null,
      "metadata": {
        "execution": {
          "iopub.execute_input": "2022-12-13T04:49:06.339033Z",
          "iopub.status.busy": "2022-12-13T04:49:06.338619Z",
          "iopub.status.idle": "2022-12-13T04:49:07.858592Z",
          "shell.execute_reply": "2022-12-13T04:49:07.857346Z",
          "shell.execute_reply.started": "2022-12-13T04:49:06.338999Z"
        },
        "id": "WOymuCS_9TiF"
      },
      "outputs": [],
      "source": [
        "import nltk\n",
        "from nltk.corpus import stopwords\n",
        "from nltk.stem import PorterStemmer\n",
        "import re"
      ]
    },
    {
      "cell_type": "code",
      "execution_count": null,
      "metadata": {
        "execution": {
          "iopub.execute_input": "2022-12-13T04:49:07.860714Z",
          "iopub.status.busy": "2022-12-13T04:49:07.860016Z",
          "iopub.status.idle": "2022-12-13T04:49:08.152859Z",
          "shell.execute_reply": "2022-12-13T04:49:08.151707Z",
          "shell.execute_reply.started": "2022-12-13T04:49:07.860676Z"
        },
        "id": "DytlE7Xm9TiF",
        "outputId": "7107edf6-f65d-4e2c-c2b1-21640df4c38b"
      },
      "outputs": [
        {
          "name": "stdout",
          "output_type": "stream",
          "text": [
            "['i', 'me', 'my', 'myself', 'we']\n"
          ]
        },
        {
          "name": "stderr",
          "output_type": "stream",
          "text": [
            "[nltk_data] Downloading package stopwords to /usr/share/nltk_data...\n",
            "[nltk_data]   Package stopwords is already up-to-date!\n"
          ]
        }
      ],
      "source": [
        "nltk.download(\"stopwords\")\n",
        "STOPWORDS = stopwords.words(\"english\")\n",
        "print (STOPWORDS[:5])\n",
        "porter = PorterStemmer()"
      ]
    },
    {
      "cell_type": "code",
      "execution_count": null,
      "metadata": {
        "execution": {
          "iopub.execute_input": "2022-12-13T04:49:08.154563Z",
          "iopub.status.busy": "2022-12-13T04:49:08.154207Z",
          "iopub.status.idle": "2022-12-13T04:49:11.227905Z",
          "shell.execute_reply": "2022-12-13T04:49:11.226560Z",
          "shell.execute_reply.started": "2022-12-13T04:49:08.154532Z"
        },
        "id": "d_ouSDRo9TiG",
        "outputId": "3a0a139e-7377-416c-eaaa-0845ed5fb093"
      },
      "outputs": [
        {
          "name": "stderr",
          "output_type": "stream",
          "text": [
            "/opt/conda/lib/python3.7/site-packages/ipykernel_launcher.py:18: SettingWithCopyWarning: \n",
            "A value is trying to be set on a copy of a slice from a DataFrame\n",
            "\n",
            "See the caveats in the documentation: https://pandas.pydata.org/pandas-docs/stable/user_guide/indexing.html#returning-a-view-versus-a-copy\n"
          ]
        }
      ],
      "source": [
        "import re\n",
        "def preprocess(text):\n",
        "    \"\"\"Conditional preprocessing on our text.\"\"\"\n",
        "    # Lower\n",
        "    text = text.lower()\n",
        "\n",
        "    # Spacing and filters\n",
        "    text = re.sub(r\"([-;;.,!?<=>])\", r\" \\1 \", text)\n",
        "    text = re.sub(\"[^A-Za-z0-9]+\", \" \", text) # remove non alphanumeric chars\n",
        "    text = re.sub(\" +\", \" \", text)  # remove multiple spaces\n",
        "    text = text.strip()\n",
        "\n",
        "    # Separate into word tokens\n",
        "#     text = text.split(\" \")\n",
        "\n",
        "    return text\n",
        "for i in range(0,len(df)):\n",
        "    df['text'][i]=preprocess(df['text'][i])"
      ]
    },
    {
      "cell_type": "code",
      "execution_count": null,
      "metadata": {
        "execution": {
          "iopub.execute_input": "2022-12-13T04:49:11.230295Z",
          "iopub.status.busy": "2022-12-13T04:49:11.229746Z",
          "iopub.status.idle": "2022-12-13T04:49:11.245351Z",
          "shell.execute_reply": "2022-12-13T04:49:11.244102Z",
          "shell.execute_reply.started": "2022-12-13T04:49:11.230243Z"
        },
        "id": "T_MNiO9S9TiG",
        "outputId": "3f8cd842-8494-40a8-c60c-63f99d604a1d"
      },
      "outputs": [
        {
          "data": {
            "text/html": [
              "<div>\n",
              "<style scoped>\n",
              "    .dataframe tbody tr th:only-of-type {\n",
              "        vertical-align: middle;\n",
              "    }\n",
              "\n",
              "    .dataframe tbody tr th {\n",
              "        vertical-align: top;\n",
              "    }\n",
              "\n",
              "    .dataframe thead th {\n",
              "        text-align: right;\n",
              "    }\n",
              "</style>\n",
              "<table border=\"1\" class=\"dataframe\">\n",
              "  <thead>\n",
              "    <tr style=\"text-align: right;\">\n",
              "      <th></th>\n",
              "      <th>id</th>\n",
              "      <th>keyword</th>\n",
              "      <th>location</th>\n",
              "      <th>text</th>\n",
              "      <th>target</th>\n",
              "    </tr>\n",
              "  </thead>\n",
              "  <tbody>\n",
              "    <tr>\n",
              "      <th>0</th>\n",
              "      <td>1</td>\n",
              "      <td>NaN</td>\n",
              "      <td>NaN</td>\n",
              "      <td>our deeds are the reason of this earthquake ma...</td>\n",
              "      <td>1</td>\n",
              "    </tr>\n",
              "    <tr>\n",
              "      <th>1</th>\n",
              "      <td>4</td>\n",
              "      <td>NaN</td>\n",
              "      <td>NaN</td>\n",
              "      <td>forest fire near la ronge sask canada</td>\n",
              "      <td>1</td>\n",
              "    </tr>\n",
              "    <tr>\n",
              "      <th>2</th>\n",
              "      <td>5</td>\n",
              "      <td>NaN</td>\n",
              "      <td>NaN</td>\n",
              "      <td>all residents asked to shelter in place are be...</td>\n",
              "      <td>1</td>\n",
              "    </tr>\n",
              "    <tr>\n",
              "      <th>3</th>\n",
              "      <td>6</td>\n",
              "      <td>NaN</td>\n",
              "      <td>NaN</td>\n",
              "      <td>13 000 people receive wildfires evacuation ord...</td>\n",
              "      <td>1</td>\n",
              "    </tr>\n",
              "    <tr>\n",
              "      <th>4</th>\n",
              "      <td>7</td>\n",
              "      <td>NaN</td>\n",
              "      <td>NaN</td>\n",
              "      <td>just got sent this photo from ruby alaska as s...</td>\n",
              "      <td>1</td>\n",
              "    </tr>\n",
              "  </tbody>\n",
              "</table>\n",
              "</div>"
            ],
            "text/plain": [
              "   id keyword location                                               text  \\\n",
              "0   1     NaN      NaN  our deeds are the reason of this earthquake ma...   \n",
              "1   4     NaN      NaN              forest fire near la ronge sask canada   \n",
              "2   5     NaN      NaN  all residents asked to shelter in place are be...   \n",
              "3   6     NaN      NaN  13 000 people receive wildfires evacuation ord...   \n",
              "4   7     NaN      NaN  just got sent this photo from ruby alaska as s...   \n",
              "\n",
              "   target  \n",
              "0       1  \n",
              "1       1  \n",
              "2       1  \n",
              "3       1  \n",
              "4       1  "
            ]
          },
          "execution_count": 7,
          "metadata": {},
          "output_type": "execute_result"
        }
      ],
      "source": [
        "df.head()"
      ]
    },
    {
      "cell_type": "code",
      "execution_count": null,
      "metadata": {
        "execution": {
          "iopub.execute_input": "2022-12-13T04:51:56.572833Z",
          "iopub.status.busy": "2022-12-13T04:51:56.571774Z",
          "iopub.status.idle": "2022-12-13T04:51:57.244613Z",
          "shell.execute_reply": "2022-12-13T04:51:57.243582Z",
          "shell.execute_reply.started": "2022-12-13T04:51:56.572793Z"
        },
        "id": "J6WZDreC9TiH",
        "outputId": "7b997f41-1f3e-4205-ff19-7eef26320a59"
      },
      "outputs": [
        {
          "data": {
            "text/plain": [
              "array(['00', '00 11', '00 25', ..., 'zztbvjypn1', 'zzweeezjug', 'zzzz'],\n",
              "      dtype=object)"
            ]
          },
          "execution_count": 9,
          "metadata": {},
          "output_type": "execute_result"
        }
      ],
      "source": [
        "from sklearn.feature_extraction.text import TfidfVectorizer\n",
        "vectorizer = TfidfVectorizer(ngram_range=(1,2))\n",
        "x = vectorizer.fit_transform(df['text'])\n",
        "vectorizer.get_feature_names_out()"
      ]
    },
    {
      "cell_type": "code",
      "execution_count": null,
      "metadata": {
        "execution": {
          "iopub.execute_input": "2022-12-13T04:53:28.624582Z",
          "iopub.status.busy": "2022-12-13T04:53:28.624063Z",
          "iopub.status.idle": "2022-12-13T04:53:28.635146Z",
          "shell.execute_reply": "2022-12-13T04:53:28.633802Z",
          "shell.execute_reply.started": "2022-12-13T04:53:28.624537Z"
        },
        "id": "3W2tqAtd9TiI"
      },
      "outputs": [],
      "source": [
        "from sklearn.model_selection import train_test_split\n",
        "x_train, x_test, y_train, y_test = train_test_split(\n",
        "    x, df['target'], test_size=0.3, random_state=42)"
      ]
    },
    {
      "cell_type": "code",
      "execution_count": null,
      "metadata": {
        "execution": {
          "iopub.execute_input": "2022-12-13T04:54:39.459785Z",
          "iopub.status.busy": "2022-12-13T04:54:39.459363Z",
          "iopub.status.idle": "2022-12-13T04:54:39.481274Z",
          "shell.execute_reply": "2022-12-13T04:54:39.480149Z",
          "shell.execute_reply.started": "2022-12-13T04:54:39.459751Z"
        },
        "id": "vu6FAXIk9TiI",
        "outputId": "bb53e9b4-0b7b-4b42-bca6-cab552dfe570"
      },
      "outputs": [
        {
          "data": {
            "text/plain": [
              "MultinomialNB()"
            ]
          },
          "execution_count": 15,
          "metadata": {},
          "output_type": "execute_result"
        }
      ],
      "source": [
        "from sklearn.naive_bayes import MultinomialNB\n",
        "clf = MultinomialNB()\n",
        "clf.fit(x_train,y_train)"
      ]
    },
    {
      "cell_type": "code",
      "execution_count": null,
      "metadata": {
        "execution": {
          "iopub.execute_input": "2022-12-13T04:54:54.218101Z",
          "iopub.status.busy": "2022-12-13T04:54:54.217685Z",
          "iopub.status.idle": "2022-12-13T04:54:54.225741Z",
          "shell.execute_reply": "2022-12-13T04:54:54.224348Z",
          "shell.execute_reply.started": "2022-12-13T04:54:54.218067Z"
        },
        "id": "6C-y1Vlp9TiJ"
      },
      "outputs": [],
      "source": [
        "y_pred=clf.predict(x_test)"
      ]
    },
    {
      "cell_type": "code",
      "execution_count": null,
      "metadata": {
        "execution": {
          "iopub.execute_input": "2022-12-13T05:16:20.733354Z",
          "iopub.status.busy": "2022-12-13T05:16:20.732857Z",
          "iopub.status.idle": "2022-12-13T05:16:20.743188Z",
          "shell.execute_reply": "2022-12-13T05:16:20.741698Z",
          "shell.execute_reply.started": "2022-12-13T05:16:20.733310Z"
        },
        "id": "Fmkku7iE9TiJ",
        "outputId": "9b3ffe57-b264-4038-d16d-fb4ae79d2077"
      },
      "outputs": [
        {
          "data": {
            "text/plain": [
              "0.7880910683012259"
            ]
          },
          "execution_count": 19,
          "metadata": {},
          "output_type": "execute_result"
        }
      ],
      "source": [
        "from sklearn.metrics import accuracy_score\n",
        "accuracy_score(y_test, y_pred)\n"
      ]
    },
    {
      "cell_type": "code",
      "execution_count": null,
      "metadata": {
        "execution": {
          "iopub.execute_input": "2022-12-13T04:56:28.898861Z",
          "iopub.status.busy": "2022-12-13T04:56:28.898086Z",
          "iopub.status.idle": "2022-12-13T04:56:28.917827Z",
          "shell.execute_reply": "2022-12-13T04:56:28.916559Z",
          "shell.execute_reply.started": "2022-12-13T04:56:28.898812Z"
        },
        "id": "2TZ2nfC29TiJ",
        "outputId": "42b4edac-3f25-460d-f755-d7dd5d7205ef"
      },
      "outputs": [
        {
          "name": "stdout",
          "output_type": "stream",
          "text": [
            "              precision    recall  f1-score   support\n",
            "\n",
            "           0       0.75      0.95      0.84      1318\n",
            "           1       0.89      0.57      0.70       966\n",
            "\n",
            "    accuracy                           0.79      2284\n",
            "   macro avg       0.82      0.76      0.77      2284\n",
            "weighted avg       0.81      0.79      0.78      2284\n",
            "\n"
          ]
        }
      ],
      "source": [
        "from sklearn.metrics import classification_report\n",
        "print(classification_report(y_test, y_pred))"
      ]
    },
    {
      "cell_type": "code",
      "execution_count": null,
      "metadata": {
        "execution": {
          "iopub.execute_input": "2022-12-13T05:17:29.563167Z",
          "iopub.status.busy": "2022-12-13T05:17:29.562674Z",
          "iopub.status.idle": "2022-12-13T05:17:29.572812Z",
          "shell.execute_reply": "2022-12-13T05:17:29.571458Z",
          "shell.execute_reply.started": "2022-12-13T05:17:29.563125Z"
        },
        "id": "GC_CzlSX9TiK",
        "outputId": "4a4063b0-0f4d-462f-ae2a-bc45c8748e70"
      },
      "outputs": [
        {
          "data": {
            "text/plain": [
              "array([[1247,   71],\n",
              "       [ 413,  553]])"
            ]
          },
          "execution_count": 20,
          "metadata": {},
          "output_type": "execute_result"
        }
      ],
      "source": [
        "from sklearn.metrics import confusion_matrix\n",
        "confusion_matrix(y_test,y_pred)"
      ]
    },
    {
      "cell_type": "code",
      "execution_count": null,
      "metadata": {
        "execution": {
          "iopub.execute_input": "2022-12-13T05:24:00.167093Z",
          "iopub.status.busy": "2022-12-13T05:24:00.166631Z",
          "iopub.status.idle": "2022-12-13T05:24:03.510358Z",
          "shell.execute_reply": "2022-12-13T05:24:03.509183Z",
          "shell.execute_reply.started": "2022-12-13T05:24:00.167039Z"
        },
        "id": "_pExUPFZ9TiK",
        "outputId": "b6276ba8-cc2a-46ed-dfb9-ca8984b0155a"
      },
      "outputs": [
        {
          "name": "stderr",
          "output_type": "stream",
          "text": [
            "[nltk_data] Downloading package treebank to /usr/share/nltk_data...\n",
            "[nltk_data]   Package treebank is already up-to-date!\n",
            "[nltk_data] Downloading package universal_tagset to\n",
            "[nltk_data]     /usr/share/nltk_data...\n",
            "[nltk_data]   Package universal_tagset is already up-to-date!\n"
          ]
        },
        {
          "name": "stdout",
          "output_type": "stream",
          "text": [
            "[[('Pierre', 'NOUN'), ('Vinken', 'NOUN'), (',', '.'), ('61', 'NUM'), ('years', 'NOUN'), ('old', 'ADJ'), (',', '.'), ('will', 'VERB'), ('join', 'VERB'), ('the', 'DET'), ('board', 'NOUN'), ('as', 'ADP'), ('a', 'DET'), ('nonexecutive', 'ADJ'), ('director', 'NOUN'), ('Nov.', 'NOUN'), ('29', 'NUM'), ('.', '.')], [('Mr.', 'NOUN'), ('Vinken', 'NOUN'), ('is', 'VERB'), ('chairman', 'NOUN'), ('of', 'ADP'), ('Elsevier', 'NOUN'), ('N.V.', 'NOUN'), (',', '.'), ('the', 'DET'), ('Dutch', 'NOUN'), ('publishing', 'VERB'), ('group', 'NOUN'), ('.', '.')]]\n"
          ]
        }
      ],
      "source": [
        "import random\n",
        "import pprint, time\n",
        "\n",
        "#download the treebank corpus from nltk\n",
        "nltk.download('treebank')\n",
        "\n",
        "#download the universal tagset from nltk\n",
        "nltk.download('universal_tagset')\n",
        "\n",
        "# reading the Treebank tagged sentences\n",
        "nltk_data = list(nltk.corpus.treebank.tagged_sents(tagset='universal'))\n",
        "\n",
        "#print the first two sentences along with tags\n",
        "print(nltk_data[:2])"
      ]
    },
    {
      "cell_type": "code",
      "execution_count": null,
      "metadata": {
        "execution": {
          "iopub.execute_input": "2022-12-13T05:24:49.316003Z",
          "iopub.status.busy": "2022-12-13T05:24:49.314758Z",
          "iopub.status.idle": "2022-12-13T05:24:49.324064Z",
          "shell.execute_reply": "2022-12-13T05:24:49.323149Z",
          "shell.execute_reply.started": "2022-12-13T05:24:49.315950Z"
        },
        "id": "9sY32rWq9TiK"
      },
      "outputs": [],
      "source": [
        "# split data into training and validation set in the ratio 80:20\n",
        "train_set,test_set =train_test_split(nltk_data,test_size=0.20,random_state = 101)"
      ]
    },
    {
      "cell_type": "code",
      "execution_count": null,
      "metadata": {
        "execution": {
          "iopub.execute_input": "2022-12-13T05:25:00.638243Z",
          "iopub.status.busy": "2022-12-13T05:25:00.637033Z",
          "iopub.status.idle": "2022-12-13T05:25:00.661740Z",
          "shell.execute_reply": "2022-12-13T05:25:00.659925Z",
          "shell.execute_reply.started": "2022-12-13T05:25:00.638176Z"
        },
        "id": "cwu7Gjda9TiL",
        "outputId": "610b8beb-3039-46fa-cba0-bae513220e5f"
      },
      "outputs": [
        {
          "name": "stdout",
          "output_type": "stream",
          "text": [
            "80310\n",
            "20366\n"
          ]
        }
      ],
      "source": [
        "train_tagged_words = [ tup for sent in train_set for tup in sent ]\n",
        "test_tagged_words = [ tup for sent in test_set for tup in sent ]\n",
        "print(len(train_tagged_words))\n",
        "print(len(test_tagged_words))"
      ]
    },
    {
      "cell_type": "code",
      "execution_count": null,
      "metadata": {
        "execution": {
          "iopub.execute_input": "2022-12-13T05:25:14.848440Z",
          "iopub.status.busy": "2022-12-13T05:25:14.847390Z",
          "iopub.status.idle": "2022-12-13T05:25:14.885694Z",
          "shell.execute_reply": "2022-12-13T05:25:14.884355Z",
          "shell.execute_reply.started": "2022-12-13T05:25:14.848389Z"
        },
        "id": "bWSDiw409TiL",
        "outputId": "7365fe02-ed7c-4629-f986-a4c21103a9ae"
      },
      "outputs": [
        {
          "name": "stdout",
          "output_type": "stream",
          "text": [
            "12\n",
            "{'ADP', 'CONJ', 'VERB', '.', 'ADJ', 'DET', 'NOUN', 'X', 'PRT', 'ADV', 'PRON', 'NUM'}\n"
          ]
        }
      ],
      "source": [
        "tags = {tag for word,tag in train_tagged_words}\n",
        "print(len(tags))\n",
        "print(tags)\n",
        "\n",
        "# check total words in vocabulary\n",
        "vocab = {word for word,tag in train_tagged_words}"
      ]
    },
    {
      "cell_type": "code",
      "execution_count": null,
      "metadata": {
        "execution": {
          "iopub.execute_input": "2022-12-13T05:25:28.416556Z",
          "iopub.status.busy": "2022-12-13T05:25:28.416127Z",
          "iopub.status.idle": "2022-12-13T05:25:28.423809Z",
          "shell.execute_reply": "2022-12-13T05:25:28.422503Z",
          "shell.execute_reply.started": "2022-12-13T05:25:28.416519Z"
        },
        "id": "El5kdOwJ9TiL"
      },
      "outputs": [],
      "source": [
        "def word_given_tag(word, tag, train_bag = train_tagged_words):\n",
        "    tag_list = [pair for pair in train_bag if pair[1]==tag]\n",
        "    count_tag = len(tag_list)#total number of times the passed tag occurred in train_bag\n",
        "    w_given_tag_list = [pair[0] for pair in tag_list if pair[0]==word]\n",
        "#now calculate the total number of times the passed word occurred as the passed tag.\n",
        "    count_w_given_tag = len(w_given_tag_list)\n",
        "\n",
        "\n",
        "    return (count_w_given_tag, count_tag)"
      ]
    },
    {
      "cell_type": "code",
      "execution_count": null,
      "metadata": {
        "execution": {
          "iopub.execute_input": "2022-12-13T05:25:48.952185Z",
          "iopub.status.busy": "2022-12-13T05:25:48.950792Z",
          "iopub.status.idle": "2022-12-13T05:25:55.124536Z",
          "shell.execute_reply": "2022-12-13T05:25:55.123451Z",
          "shell.execute_reply.started": "2022-12-13T05:25:48.952126Z"
        },
        "id": "4g62TqxS9TiM",
        "outputId": "16f94c5e-5700-4b17-adcc-971ecc33581d"
      },
      "outputs": [
        {
          "name": "stdout",
          "output_type": "stream",
          "text": [
            "[[1.69577319e-02 1.01240189e-03 8.47886596e-03 3.87243740e-02\n",
            "  1.07061505e-01 3.20931405e-01 3.23588967e-01 3.45482156e-02\n",
            "  1.26550242e-03 1.45532778e-02 6.96026310e-02 6.32751212e-02]\n",
            " [5.59824370e-02 5.48847427e-04 1.50384188e-01 3.51262353e-02\n",
            "  1.13611415e-01 1.23490669e-01 3.49066973e-01 9.33040585e-03\n",
            "  4.39077942e-03 5.70801310e-02 6.03732169e-02 4.06147093e-02]\n",
            " [9.23572779e-02 5.43278083e-03 1.67955801e-01 3.48066315e-02\n",
            "  6.63904250e-02 1.33609578e-01 1.10589318e-01 2.15930015e-01\n",
            "  3.06629837e-02 8.38858187e-02 3.55432779e-02 2.28360966e-02]\n",
            " [9.29084867e-02 6.00793920e-02 8.96899477e-02 9.23720598e-02\n",
            "  4.61323895e-02 1.72191828e-01 2.18538776e-01 2.56410260e-02\n",
            "  2.78940029e-03 5.25694676e-02 6.87694475e-02 7.82104954e-02]\n",
            " [8.05825219e-02 1.68932043e-02 1.14563107e-02 6.60194159e-02\n",
            "  6.33009672e-02 5.24271838e-03 6.96893215e-01 2.09708735e-02\n",
            "  1.14563107e-02 5.24271838e-03 1.94174761e-04 2.17475723e-02]\n",
            " [9.91806854e-03 4.31220367e-04 4.02472317e-02 1.73925534e-02\n",
            "  2.06410810e-01 6.03708485e-03 6.35906279e-01 4.51343954e-02\n",
            "  2.87480245e-04 1.20741697e-02 3.30602261e-03 2.28546783e-02]\n",
            " [1.76826611e-01 4.24540639e-02 1.49133503e-01 2.40094051e-01\n",
            "  1.25838192e-02 1.31063312e-02 2.62344331e-01 2.88252197e-02\n",
            "  4.39345129e-02 1.68945398e-02 4.65906132e-03 9.14395228e-03]\n",
            " [1.42225638e-01 1.03786280e-02 2.06419379e-01 1.60868734e-01\n",
            "  1.76821072e-02 5.68902567e-02 6.16951771e-02 7.57255405e-02\n",
            "  1.85085520e-01 2.57543717e-02 5.41995019e-02 3.07514891e-03]\n",
            " [1.95694715e-02 2.34833662e-03 4.01174158e-01 4.50097844e-02\n",
            "  8.29745606e-02 1.01369865e-01 2.50489235e-01 1.21330721e-02\n",
            "  1.17416831e-03 9.39334650e-03 1.76125243e-02 5.67514673e-02]\n",
            " [1.19472459e-01 6.98215654e-03 3.39022487e-01 1.39255241e-01\n",
            "  1.30721495e-01 7.13731572e-02 3.21955010e-02 2.28859577e-02\n",
            "  1.47401085e-02 8.14584941e-02 1.20248254e-02 2.98681147e-02]\n",
            " [2.23234631e-02 5.01138950e-03 4.84738052e-01 4.19134386e-02\n",
            "  7.06150308e-02 9.56719834e-03 2.12756261e-01 8.83826911e-02\n",
            "  1.41230067e-02 3.69020514e-02 6.83371304e-03 6.83371304e-03]\n",
            " [3.74866128e-02 1.42806144e-02 2.07068902e-02 1.19243130e-01\n",
            "  3.53445187e-02 3.57015361e-03 3.51660132e-01 2.02427700e-01\n",
            "  2.60621198e-02 3.57015361e-03 1.42806140e-03 1.84219927e-01]]\n"
          ]
        }
      ],
      "source": [
        "def t2_given_t1(t2, t1, train_bag = train_tagged_words):\n",
        "    tags = [pair[1] for pair in train_bag]\n",
        "    count_t1 = len([t for t in tags if t==t1])\n",
        "    count_t2_t1 = 0\n",
        "    for index in range(len(tags)-1):\n",
        "        if tags[index]==t1 and tags[index+1] == t2:\n",
        "            count_t2_t1 += 1\n",
        "    return (count_t2_t1, count_t1)\n",
        "\n",
        "# creating t x t transition matrix of tags, t= no of tags\n",
        "# Matrix(i, j) represents P(jth tag after the ith tag)\n",
        "\n",
        "tags_matrix = np.zeros((len(tags), len(tags)), dtype='float32')\n",
        "for i, t1 in enumerate(list(tags)):\n",
        "    for j, t2 in enumerate(list(tags)):\n",
        "        tags_matrix[i, j] = t2_given_t1(t2, t1)[0]/t2_given_t1(t2, t1)[1]\n",
        "\n",
        "print(tags_matrix)"
      ]
    },
    {
      "cell_type": "code",
      "execution_count": null,
      "metadata": {
        "execution": {
          "iopub.execute_input": "2022-12-13T05:26:04.795649Z",
          "iopub.status.busy": "2022-12-13T05:26:04.795222Z",
          "iopub.status.idle": "2022-12-13T05:26:04.820620Z",
          "shell.execute_reply": "2022-12-13T05:26:04.819258Z",
          "shell.execute_reply.started": "2022-12-13T05:26:04.795614Z"
        },
        "id": "yacNE5Y79TiM",
        "outputId": "461ad46b-15c7-468c-f01c-f9cc7f5eb40e"
      },
      "outputs": [
        {
          "data": {
            "text/html": [
              "<div>\n",
              "<style scoped>\n",
              "    .dataframe tbody tr th:only-of-type {\n",
              "        vertical-align: middle;\n",
              "    }\n",
              "\n",
              "    .dataframe tbody tr th {\n",
              "        vertical-align: top;\n",
              "    }\n",
              "\n",
              "    .dataframe thead th {\n",
              "        text-align: right;\n",
              "    }\n",
              "</style>\n",
              "<table border=\"1\" class=\"dataframe\">\n",
              "  <thead>\n",
              "    <tr style=\"text-align: right;\">\n",
              "      <th></th>\n",
              "      <th>ADP</th>\n",
              "      <th>CONJ</th>\n",
              "      <th>VERB</th>\n",
              "      <th>.</th>\n",
              "      <th>ADJ</th>\n",
              "      <th>DET</th>\n",
              "      <th>NOUN</th>\n",
              "      <th>X</th>\n",
              "      <th>PRT</th>\n",
              "      <th>ADV</th>\n",
              "      <th>PRON</th>\n",
              "      <th>NUM</th>\n",
              "    </tr>\n",
              "  </thead>\n",
              "  <tbody>\n",
              "    <tr>\n",
              "      <th>ADP</th>\n",
              "      <td>0.016958</td>\n",
              "      <td>0.001012</td>\n",
              "      <td>0.008479</td>\n",
              "      <td>0.038724</td>\n",
              "      <td>0.107062</td>\n",
              "      <td>0.320931</td>\n",
              "      <td>0.323589</td>\n",
              "      <td>0.034548</td>\n",
              "      <td>0.001266</td>\n",
              "      <td>0.014553</td>\n",
              "      <td>0.069603</td>\n",
              "      <td>0.063275</td>\n",
              "    </tr>\n",
              "    <tr>\n",
              "      <th>CONJ</th>\n",
              "      <td>0.055982</td>\n",
              "      <td>0.000549</td>\n",
              "      <td>0.150384</td>\n",
              "      <td>0.035126</td>\n",
              "      <td>0.113611</td>\n",
              "      <td>0.123491</td>\n",
              "      <td>0.349067</td>\n",
              "      <td>0.009330</td>\n",
              "      <td>0.004391</td>\n",
              "      <td>0.057080</td>\n",
              "      <td>0.060373</td>\n",
              "      <td>0.040615</td>\n",
              "    </tr>\n",
              "    <tr>\n",
              "      <th>VERB</th>\n",
              "      <td>0.092357</td>\n",
              "      <td>0.005433</td>\n",
              "      <td>0.167956</td>\n",
              "      <td>0.034807</td>\n",
              "      <td>0.066390</td>\n",
              "      <td>0.133610</td>\n",
              "      <td>0.110589</td>\n",
              "      <td>0.215930</td>\n",
              "      <td>0.030663</td>\n",
              "      <td>0.083886</td>\n",
              "      <td>0.035543</td>\n",
              "      <td>0.022836</td>\n",
              "    </tr>\n",
              "    <tr>\n",
              "      <th>.</th>\n",
              "      <td>0.092908</td>\n",
              "      <td>0.060079</td>\n",
              "      <td>0.089690</td>\n",
              "      <td>0.092372</td>\n",
              "      <td>0.046132</td>\n",
              "      <td>0.172192</td>\n",
              "      <td>0.218539</td>\n",
              "      <td>0.025641</td>\n",
              "      <td>0.002789</td>\n",
              "      <td>0.052569</td>\n",
              "      <td>0.068769</td>\n",
              "      <td>0.078210</td>\n",
              "    </tr>\n",
              "    <tr>\n",
              "      <th>ADJ</th>\n",
              "      <td>0.080583</td>\n",
              "      <td>0.016893</td>\n",
              "      <td>0.011456</td>\n",
              "      <td>0.066019</td>\n",
              "      <td>0.063301</td>\n",
              "      <td>0.005243</td>\n",
              "      <td>0.696893</td>\n",
              "      <td>0.020971</td>\n",
              "      <td>0.011456</td>\n",
              "      <td>0.005243</td>\n",
              "      <td>0.000194</td>\n",
              "      <td>0.021748</td>\n",
              "    </tr>\n",
              "    <tr>\n",
              "      <th>DET</th>\n",
              "      <td>0.009918</td>\n",
              "      <td>0.000431</td>\n",
              "      <td>0.040247</td>\n",
              "      <td>0.017393</td>\n",
              "      <td>0.206411</td>\n",
              "      <td>0.006037</td>\n",
              "      <td>0.635906</td>\n",
              "      <td>0.045134</td>\n",
              "      <td>0.000287</td>\n",
              "      <td>0.012074</td>\n",
              "      <td>0.003306</td>\n",
              "      <td>0.022855</td>\n",
              "    </tr>\n",
              "    <tr>\n",
              "      <th>NOUN</th>\n",
              "      <td>0.176827</td>\n",
              "      <td>0.042454</td>\n",
              "      <td>0.149134</td>\n",
              "      <td>0.240094</td>\n",
              "      <td>0.012584</td>\n",
              "      <td>0.013106</td>\n",
              "      <td>0.262344</td>\n",
              "      <td>0.028825</td>\n",
              "      <td>0.043935</td>\n",
              "      <td>0.016895</td>\n",
              "      <td>0.004659</td>\n",
              "      <td>0.009144</td>\n",
              "    </tr>\n",
              "    <tr>\n",
              "      <th>X</th>\n",
              "      <td>0.142226</td>\n",
              "      <td>0.010379</td>\n",
              "      <td>0.206419</td>\n",
              "      <td>0.160869</td>\n",
              "      <td>0.017682</td>\n",
              "      <td>0.056890</td>\n",
              "      <td>0.061695</td>\n",
              "      <td>0.075726</td>\n",
              "      <td>0.185086</td>\n",
              "      <td>0.025754</td>\n",
              "      <td>0.054200</td>\n",
              "      <td>0.003075</td>\n",
              "    </tr>\n",
              "    <tr>\n",
              "      <th>PRT</th>\n",
              "      <td>0.019569</td>\n",
              "      <td>0.002348</td>\n",
              "      <td>0.401174</td>\n",
              "      <td>0.045010</td>\n",
              "      <td>0.082975</td>\n",
              "      <td>0.101370</td>\n",
              "      <td>0.250489</td>\n",
              "      <td>0.012133</td>\n",
              "      <td>0.001174</td>\n",
              "      <td>0.009393</td>\n",
              "      <td>0.017613</td>\n",
              "      <td>0.056751</td>\n",
              "    </tr>\n",
              "    <tr>\n",
              "      <th>ADV</th>\n",
              "      <td>0.119472</td>\n",
              "      <td>0.006982</td>\n",
              "      <td>0.339022</td>\n",
              "      <td>0.139255</td>\n",
              "      <td>0.130721</td>\n",
              "      <td>0.071373</td>\n",
              "      <td>0.032196</td>\n",
              "      <td>0.022886</td>\n",
              "      <td>0.014740</td>\n",
              "      <td>0.081458</td>\n",
              "      <td>0.012025</td>\n",
              "      <td>0.029868</td>\n",
              "    </tr>\n",
              "    <tr>\n",
              "      <th>PRON</th>\n",
              "      <td>0.022323</td>\n",
              "      <td>0.005011</td>\n",
              "      <td>0.484738</td>\n",
              "      <td>0.041913</td>\n",
              "      <td>0.070615</td>\n",
              "      <td>0.009567</td>\n",
              "      <td>0.212756</td>\n",
              "      <td>0.088383</td>\n",
              "      <td>0.014123</td>\n",
              "      <td>0.036902</td>\n",
              "      <td>0.006834</td>\n",
              "      <td>0.006834</td>\n",
              "    </tr>\n",
              "    <tr>\n",
              "      <th>NUM</th>\n",
              "      <td>0.037487</td>\n",
              "      <td>0.014281</td>\n",
              "      <td>0.020707</td>\n",
              "      <td>0.119243</td>\n",
              "      <td>0.035345</td>\n",
              "      <td>0.003570</td>\n",
              "      <td>0.351660</td>\n",
              "      <td>0.202428</td>\n",
              "      <td>0.026062</td>\n",
              "      <td>0.003570</td>\n",
              "      <td>0.001428</td>\n",
              "      <td>0.184220</td>\n",
              "    </tr>\n",
              "  </tbody>\n",
              "</table>\n",
              "</div>"
            ],
            "text/plain": [
              "           ADP      CONJ      VERB         .       ADJ       DET      NOUN  \\\n",
              "ADP   0.016958  0.001012  0.008479  0.038724  0.107062  0.320931  0.323589   \n",
              "CONJ  0.055982  0.000549  0.150384  0.035126  0.113611  0.123491  0.349067   \n",
              "VERB  0.092357  0.005433  0.167956  0.034807  0.066390  0.133610  0.110589   \n",
              ".     0.092908  0.060079  0.089690  0.092372  0.046132  0.172192  0.218539   \n",
              "ADJ   0.080583  0.016893  0.011456  0.066019  0.063301  0.005243  0.696893   \n",
              "DET   0.009918  0.000431  0.040247  0.017393  0.206411  0.006037  0.635906   \n",
              "NOUN  0.176827  0.042454  0.149134  0.240094  0.012584  0.013106  0.262344   \n",
              "X     0.142226  0.010379  0.206419  0.160869  0.017682  0.056890  0.061695   \n",
              "PRT   0.019569  0.002348  0.401174  0.045010  0.082975  0.101370  0.250489   \n",
              "ADV   0.119472  0.006982  0.339022  0.139255  0.130721  0.071373  0.032196   \n",
              "PRON  0.022323  0.005011  0.484738  0.041913  0.070615  0.009567  0.212756   \n",
              "NUM   0.037487  0.014281  0.020707  0.119243  0.035345  0.003570  0.351660   \n",
              "\n",
              "             X       PRT       ADV      PRON       NUM  \n",
              "ADP   0.034548  0.001266  0.014553  0.069603  0.063275  \n",
              "CONJ  0.009330  0.004391  0.057080  0.060373  0.040615  \n",
              "VERB  0.215930  0.030663  0.083886  0.035543  0.022836  \n",
              ".     0.025641  0.002789  0.052569  0.068769  0.078210  \n",
              "ADJ   0.020971  0.011456  0.005243  0.000194  0.021748  \n",
              "DET   0.045134  0.000287  0.012074  0.003306  0.022855  \n",
              "NOUN  0.028825  0.043935  0.016895  0.004659  0.009144  \n",
              "X     0.075726  0.185086  0.025754  0.054200  0.003075  \n",
              "PRT   0.012133  0.001174  0.009393  0.017613  0.056751  \n",
              "ADV   0.022886  0.014740  0.081458  0.012025  0.029868  \n",
              "PRON  0.088383  0.014123  0.036902  0.006834  0.006834  \n",
              "NUM   0.202428  0.026062  0.003570  0.001428  0.184220  "
            ]
          },
          "metadata": {},
          "output_type": "display_data"
        }
      ],
      "source": [
        "tags_df = pd.DataFrame(tags_matrix, columns = list(tags), index=list(tags))\n",
        "display(tags_df)"
      ]
    },
    {
      "cell_type": "code",
      "execution_count": null,
      "metadata": {
        "execution": {
          "iopub.execute_input": "2022-12-13T05:26:27.083310Z",
          "iopub.status.busy": "2022-12-13T05:26:27.082718Z",
          "iopub.status.idle": "2022-12-13T05:26:27.093230Z",
          "shell.execute_reply": "2022-12-13T05:26:27.091887Z",
          "shell.execute_reply.started": "2022-12-13T05:26:27.083267Z"
        },
        "id": "DdPwvsA89TiM"
      },
      "outputs": [],
      "source": [
        "def Viterbi(words, train_bag = train_tagged_words):\n",
        "    state = []\n",
        "    T = list(set([pair[1] for pair in train_bag]))\n",
        "\n",
        "    for key, word in enumerate(words):\n",
        "        #initialise list of probability column for a given observation\n",
        "        p = []\n",
        "        for tag in T:\n",
        "            if key == 0:\n",
        "                transition_p = tags_df.loc['.', tag]\n",
        "            else:\n",
        "                transition_p = tags_df.loc[state[-1], tag]\n",
        "\n",
        "            # compute emission and state probabilities\n",
        "            emission_p = word_given_tag(words[key], tag)[0]/word_given_tag(words[key], tag)[1]\n",
        "            state_probability = emission_p * transition_p\n",
        "            p.append(state_probability)\n",
        "\n",
        "        pmax = max(p)\n",
        "        # getting state for which probability is maximum\n",
        "        state_max = T[p.index(pmax)]\n",
        "        state.append(state_max)\n",
        "    return list(zip(words, state))"
      ]
    },
    {
      "cell_type": "code",
      "execution_count": null,
      "metadata": {
        "execution": {
          "iopub.execute_input": "2022-12-13T05:26:59.720527Z",
          "iopub.status.busy": "2022-12-13T05:26:59.719470Z",
          "iopub.status.idle": "2022-12-13T05:26:59.727890Z",
          "shell.execute_reply": "2022-12-13T05:26:59.726758Z",
          "shell.execute_reply.started": "2022-12-13T05:26:59.720480Z"
        },
        "id": "sQ4FZSru9TiM"
      },
      "outputs": [],
      "source": [
        "random.seed(1234)      #define a random seed to get same sentences when run multiple times\n",
        "\n",
        "# choose random 10 numbers\n",
        "rndom = [random.randint(1,len(test_set)) for x in range(10)]\n",
        "\n",
        "# list of 10 sents on which we test the model\n",
        "test_run = [test_set[i] for i in rndom]\n",
        "\n",
        "# list of tagged words\n",
        "test_run_base = [tup for sent in test_run for tup in sent]\n",
        "\n",
        "# list of untagged words\n",
        "test_tagged_words = [tup[0] for sent in test_run for tup in sent]"
      ]
    },
    {
      "cell_type": "code",
      "execution_count": null,
      "metadata": {
        "execution": {
          "iopub.execute_input": "2022-12-13T05:27:50.605976Z",
          "iopub.status.busy": "2022-12-13T05:27:50.604945Z",
          "iopub.status.idle": "2022-12-13T05:28:49.679755Z",
          "shell.execute_reply": "2022-12-13T05:28:49.678501Z",
          "shell.execute_reply.started": "2022-12-13T05:27:50.605931Z"
        },
        "id": "Np_p2Iuq9TiM",
        "outputId": "7f8957a6-b0c4-4ae2-8fd0-9f0167311345"
      },
      "outputs": [
        {
          "name": "stdout",
          "output_type": "stream",
          "text": [
            "Time taken in seconds:  59.06658101081848\n",
            "Viterbi Algorithm Accuracy:  93.77990430622009\n"
          ]
        }
      ],
      "source": [
        "start = time.time()\n",
        "tagged_seq = Viterbi(test_tagged_words)\n",
        "end = time.time()\n",
        "difference = end-start\n",
        "\n",
        "print(\"Time taken in seconds: \", difference)\n",
        "\n",
        "# accuracy\n",
        "check = [i for i, j in zip(tagged_seq, test_run_base) if i == j]\n",
        "\n",
        "accuracy = len(check)/len(tagged_seq)\n",
        "print('Viterbi Algorithm Accuracy: ',accuracy*100)"
      ]
    },
    {
      "cell_type": "code",
      "execution_count": null,
      "metadata": {
        "execution": {
          "iopub.execute_input": "2022-12-13T06:10:47.282230Z",
          "iopub.status.busy": "2022-12-13T06:10:47.281070Z",
          "iopub.status.idle": "2022-12-13T06:10:47.291337Z",
          "shell.execute_reply": "2022-12-13T06:10:47.290021Z",
          "shell.execute_reply.started": "2022-12-13T06:10:47.282162Z"
        },
        "id": "P8LgaqOm9TiN",
        "outputId": "94f65676-8b3a-4c43-df5f-28e486474175"
      },
      "outputs": [
        {
          "data": {
            "text/plain": [
              "'ADP'"
            ]
          },
          "execution_count": 50,
          "metadata": {},
          "output_type": "execute_result"
        }
      ],
      "source": [
        "tagged_seq[3][1]"
      ]
    },
    {
      "cell_type": "code",
      "execution_count": null,
      "metadata": {
        "execution": {
          "iopub.execute_input": "2022-12-13T06:13:58.204172Z",
          "iopub.status.busy": "2022-12-13T06:13:58.203726Z",
          "iopub.status.idle": "2022-12-13T06:13:58.211526Z",
          "shell.execute_reply": "2022-12-13T06:13:58.210382Z",
          "shell.execute_reply.started": "2022-12-13T06:13:58.204138Z"
        },
        "id": "01XQ8DOf9TiN"
      },
      "outputs": [],
      "source": [
        "y_test1=[]\n",
        "y_pred1=[]\n",
        "for i in range(0,len(tagged_seq)):\n",
        "    y_pred1.append(tagged_seq[i][1])\n",
        "\n",
        "for i in range(0,len(test_run_base)):\n",
        "    y_test1.append(test_run_base[i][1])"
      ]
    },
    {
      "cell_type": "code",
      "execution_count": null,
      "metadata": {
        "execution": {
          "iopub.execute_input": "2022-12-13T06:14:00.467345Z",
          "iopub.status.busy": "2022-12-13T06:14:00.466463Z",
          "iopub.status.idle": "2022-12-13T06:14:00.474123Z",
          "shell.execute_reply": "2022-12-13T06:14:00.473149Z",
          "shell.execute_reply.started": "2022-12-13T06:14:00.467290Z"
        },
        "id": "c3op5YU59TiN"
      },
      "outputs": [],
      "source": [
        "from sklearn import preprocessing\n",
        "le = preprocessing.LabelEncoder()\n",
        "y_test1=le.fit_transform(y_test1)\n",
        "y_pred1=le.transform(y_pred1)"
      ]
    },
    {
      "cell_type": "code",
      "execution_count": null,
      "metadata": {
        "execution": {
          "iopub.execute_input": "2022-12-13T06:14:02.637054Z",
          "iopub.status.busy": "2022-12-13T06:14:02.636170Z",
          "iopub.status.idle": "2022-12-13T06:14:02.655579Z",
          "shell.execute_reply": "2022-12-13T06:14:02.653876Z",
          "shell.execute_reply.started": "2022-12-13T06:14:02.637003Z"
        },
        "id": "K_xArrxb9TiN",
        "outputId": "892fb5b0-958d-4dd9-84e2-917fa25f9ffc"
      },
      "outputs": [
        {
          "name": "stdout",
          "output_type": "stream",
          "text": [
            "              precision    recall  f1-score   support\n",
            "\n",
            "           0       1.00      1.00      1.00        29\n",
            "           1       0.78      0.88      0.82         8\n",
            "           2       0.64      1.00      0.78        16\n",
            "           3       0.91      0.91      0.91        11\n",
            "           4       1.00      1.00      1.00         4\n",
            "           5       1.00      1.00      1.00        18\n",
            "           6       1.00      0.89      0.94        62\n",
            "           7       1.00      1.00      1.00         2\n",
            "           8       1.00      1.00      1.00         5\n",
            "           9       1.00      1.00      1.00         4\n",
            "          10       0.97      0.91      0.94        35\n",
            "          11       1.00      0.93      0.97        15\n",
            "\n",
            "    accuracy                           0.94       209\n",
            "   macro avg       0.94      0.96      0.95       209\n",
            "weighted avg       0.95      0.94      0.94       209\n",
            "\n"
          ]
        },
        {
          "data": {
            "text/plain": [
              "0.937799043062201"
            ]
          },
          "execution_count": 57,
          "metadata": {},
          "output_type": "execute_result"
        }
      ],
      "source": [
        "# y_pred=le.transform(tagged_seq)\n",
        "\n",
        "print(classification_report(y_test1, y_pred1))\n",
        "accuracy_score(y_test1, y_pred1)"
      ]
    }
  ],
  "metadata": {
    "kernelspec": {
      "display_name": "Python 3 (ipykernel)",
      "language": "python",
      "name": "python3"
    },
    "language_info": {
      "codemirror_mode": {
        "name": "ipython",
        "version": 3
      },
      "file_extension": ".py",
      "mimetype": "text/x-python",
      "name": "python",
      "nbconvert_exporter": "python",
      "pygments_lexer": "ipython3",
      "version": "3.9.7"
    },
    "vscode": {
      "interpreter": {
        "hash": "31f2aee4e71d21fbe5cf8b01ff0e069b9275f58929596ceb00d14d90e3e16cd6"
      }
    },
    "colab": {
      "provenance": [],
      "include_colab_link": true
    }
  },
  "nbformat": 4,
  "nbformat_minor": 0
}